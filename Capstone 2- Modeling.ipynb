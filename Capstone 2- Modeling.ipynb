{
 "cells": [
  {
   "cell_type": "markdown",
   "metadata": {},
   "source": [
    "# 5 Modeling"
   ]
  },
  {
   "cell_type": "markdown",
   "metadata": {},
   "source": [
    "### 5.1.Imports"
   ]
  },
  {
   "cell_type": "code",
   "execution_count": 1,
   "metadata": {},
   "outputs": [],
   "source": [
    "import pandas as pd\n",
    "import numpy as np\n",
    "import os\n",
    "import pickle\n",
    "import matplotlib.pyplot as plt\n",
    "import seaborn as sns\n",
    "from sklearn import __version__ as sklearn_version\n",
    "from sklearn.model_selection import cross_validate\n",
    "from sklearn.model_selection import train_test_split, cross_validate, GridSearchCV, learning_curve\n"
   ]
  },
  {
   "cell_type": "markdown",
   "metadata": {},
   "source": [
    "### 5.2. Load data"
   ]
  },
  {
   "cell_type": "code",
   "execution_count": 2,
   "metadata": {},
   "outputs": [],
   "source": [
    "expected_model_version = '1.0'\n",
    "model_path_CO = 'Desktop/Springboard/Capstone2/CO_model.pkl'\n",
    "if os.path.exists(model_path_CO):\n",
    "    with open(model_path_CO, 'rb') as f:\n",
    "        model_CO = pickle.load(f)  \n",
    "else:\n",
    "    print(\"Expected model not found\")\n",
    "    \n",
    "model_path_NOX = 'Desktop/Springboard/Capstone2/NOX_model.pkl'\n",
    "if os.path.exists(model_path_NOX):\n",
    "    with open(model_path_NOX, 'rb') as f:\n",
    "        model_NOX = pickle.load(f)  \n",
    "else:\n",
    "    print(\"Expected model not found\")    \n",
    "    \n",
    "model_path_NO2 = 'Desktop/Springboard/Capstone2/NO2_model.pkl'\n",
    "if os.path.exists(model_path_NO2):\n",
    "    with open(model_path_NO2, 'rb') as f:\n",
    "        model_NO2 = pickle.load(f)  \n",
    "else:\n",
    "    print(\"Expected model not found\")    \n",
    "    \n",
    "model_path_NMH = 'Desktop/Springboard/Capstone2/NMH_model.pkl'\n",
    "if os.path.exists(model_path_NMH):\n",
    "    with open(model_path_NMH, 'rb') as f:\n",
    "        model_NMH = pickle.load(f)  \n",
    "else:\n",
    "    print(\"Expected model not found\")    \n",
    "    \n",
    "    "
   ]
  },
  {
   "cell_type": "code",
   "execution_count": 3,
   "metadata": {},
   "outputs": [],
   "source": [
    "df = pd.read_csv('Desktop/Springboard/Capstone2/Wrangledata.csv')\n"
   ]
  },
  {
   "cell_type": "markdown",
   "metadata": {},
   "source": [
    "### 5.3.1 Investigating humidity effect on CO sensor & real data"
   ]
  },
  {
   "cell_type": "markdown",
   "metadata": {},
   "source": [
    "The main objective in section 5.3 is to investigate the effect of humidity on pollution real data. For this purpose, I will use average data for sensor and temperature and change the absolute humidity between minimum and maximum ranges to see how real data change."
   ]
  },
  {
   "cell_type": "code",
   "execution_count": 4,
   "metadata": {
    "scrolled": true
   },
   "outputs": [
    {
     "data": {
      "text/plain": [
       "count    8991.000000\n",
       "mean       18.317829\n",
       "std         8.832116\n",
       "min        -1.900000\n",
       "25%        11.800000\n",
       "50%        17.800000\n",
       "75%        24.400000\n",
       "max        44.600000\n",
       "Name: Temperature, dtype: float64"
      ]
     },
     "execution_count": 4,
     "metadata": {},
     "output_type": "execute_result"
    }
   ],
   "source": [
    "df['Temperature'].describe()"
   ]
  },
  {
   "cell_type": "code",
   "execution_count": 5,
   "metadata": {},
   "outputs": [
    {
     "data": {
      "text/plain": [
       "count    8991.000000\n",
       "mean        1.025530\n",
       "std         0.403813\n",
       "min         0.184700\n",
       "25%         0.736800\n",
       "50%         0.995400\n",
       "75%         1.313700\n",
       "max         2.231000\n",
       "Name: Absolute Humidity, dtype: float64"
      ]
     },
     "execution_count": 5,
     "metadata": {},
     "output_type": "execute_result"
    }
   ],
   "source": [
    "df['Absolute Humidity'].describe()"
   ]
  },
  {
   "cell_type": "code",
   "execution_count": 6,
   "metadata": {},
   "outputs": [
    {
     "name": "stderr",
     "output_type": "stream",
     "text": [
      "<ipython-input-6-9f49d4ced664>:2: SettingWithCopyWarning: \n",
      "A value is trying to be set on a copy of a slice from a DataFrame\n",
      "\n",
      "See the caveats in the documentation: https://pandas.pydata.org/pandas-docs/stable/user_guide/indexing.html#returning-a-view-versus-a-copy\n",
      "  CO.dropna(inplace=True)\n"
     ]
    }
   ],
   "source": [
    "CO=df[['CO_Real', 'Temperature','Absolute Humidity','CO_Sensor']]\n",
    "CO.dropna(inplace=True)\n",
    "X_CO=CO[['CO_Sensor', 'Temperature','Absolute Humidity']]\n",
    "y_CO=CO['CO_Real']"
   ]
  },
  {
   "cell_type": "markdown",
   "metadata": {},
   "source": [
    "Let's see the effect of humidity change on real data prediction in average sensor data and temperature."
   ]
  },
  {
   "cell_type": "code",
   "execution_count": 7,
   "metadata": {},
   "outputs": [
    {
     "data": {
      "text/plain": [
       "1110.5807461873637"
      ]
     },
     "execution_count": 7,
     "metadata": {},
     "output_type": "execute_result"
    }
   ],
   "source": [
    "# Average sensor data\n",
    "X_CO['CO_Sensor'].mean()"
   ]
  },
  {
   "cell_type": "code",
   "execution_count": 8,
   "metadata": {},
   "outputs": [
    {
     "data": {
      "text/plain": [
       "17.77042483660141"
      ]
     },
     "execution_count": 8,
     "metadata": {},
     "output_type": "execute_result"
    }
   ],
   "source": [
    "# Average temperature data\n",
    "X_CO['Temperature'].mean()"
   ]
  },
  {
   "cell_type": "code",
   "execution_count": 9,
   "metadata": {},
   "outputs": [],
   "source": [
    "list_CO=[]\n",
    "for i in np.arange(0.2,2.4,0.2):\n",
    "    list_CO.append((model_CO.predict([[1110,18,i]]).tolist()))\n"
   ]
  },
  {
   "cell_type": "code",
   "execution_count": 10,
   "metadata": {},
   "outputs": [],
   "source": [
    "# Humidity range\n",
    "Humidity=np.arange(0.2,2.4,0.2)"
   ]
  },
  {
   "cell_type": "code",
   "execution_count": 11,
   "metadata": {},
   "outputs": [
    {
     "data": {
      "text/plain": [
       "count    7344.000000\n",
       "mean        2.129711\n",
       "std         1.436472\n",
       "min         0.100000\n",
       "25%         1.100000\n",
       "50%         1.800000\n",
       "75%         2.800000\n",
       "max        11.900000\n",
       "Name: CO_Real, dtype: float64"
      ]
     },
     "execution_count": 11,
     "metadata": {},
     "output_type": "execute_result"
    }
   ],
   "source": [
    "y_CO.describe()"
   ]
  },
  {
   "cell_type": "code",
   "execution_count": 12,
   "metadata": {},
   "outputs": [
    {
     "data": {
      "image/png": "[encoded data removed]",
      "text/plain": [
       "<Figure size 432x288 with 1 Axes>"
      ]
     },
     "metadata": {
      "needs_background": "light"
     },
     "output_type": "display_data"
    }
   ],
   "source": [
    "#Humidity change effect on CO real data\n",
    "plt.scatter(Humidity,list_CO)\n",
    "plt.xlabel('Absolute Humidity')\n",
    "plt.ylabel('CO_Real');\n",
    "plt.ylim([0,2.6]);"
   ]
  },
  {
   "cell_type": "markdown",
   "metadata": {},
   "source": [
    "As it was expected based on linear model, increasing humidity decreased the CO real data linearly. So, humidity is very important in difference between sensor and real data. The change is between 2.5 to 1.6. So, the real data changed more than 30% between low and high ranges of humidities."
   ]
  },
  {
   "cell_type": "markdown",
   "metadata": {},
   "source": [
    "### 5.3.2 Investigating humidity effect on NOX sensor & real data"
   ]
  },
  {
   "cell_type": "code",
   "execution_count": 13,
   "metadata": {},
   "outputs": [
    {
     "name": "stderr",
     "output_type": "stream",
     "text": [
      "<ipython-input-13-e8157f27c699>:2: SettingWithCopyWarning: \n",
      "A value is trying to be set on a copy of a slice from a DataFrame\n",
      "\n",
      "See the caveats in the documentation: https://pandas.pydata.org/pandas-docs/stable/user_guide/indexing.html#returning-a-view-versus-a-copy\n",
      "  NOX.dropna(inplace=True)\n"
     ]
    }
   ],
   "source": [
    "NOX=df[['NOX_Real', 'Temperature','Absolute Humidity','NOX_Sensor']]\n",
    "NOX.dropna(inplace=True)\n",
    "X_NOX=NOX[['NOX_Sensor', 'Temperature','Absolute Humidity']]\n",
    "y_NOX=NOX['NOX_Real']"
   ]
  },
  {
   "cell_type": "code",
   "execution_count": 14,
   "metadata": {},
   "outputs": [
    {
     "data": {
      "text/plain": [
       "824.5332612222824"
      ]
     },
     "execution_count": 14,
     "metadata": {},
     "output_type": "execute_result"
    }
   ],
   "source": [
    "# Average sensor data\n",
    "X_NOX['NOX_Sensor'].mean()"
   ]
  },
  {
   "cell_type": "code",
   "execution_count": 15,
   "metadata": {},
   "outputs": [
    {
     "data": {
      "text/plain": [
       "17.969240129799978"
      ]
     },
     "execution_count": 15,
     "metadata": {},
     "output_type": "execute_result"
    }
   ],
   "source": [
    "# Average temperature data\n",
    "X_NOX['Temperature'].mean()"
   ]
  },
  {
   "cell_type": "code",
   "execution_count": 16,
   "metadata": {},
   "outputs": [],
   "source": [
    "list_NOX=[]\n",
    "for i in np.arange(0.2,2.4,0.2):\n",
    "    list_NOX.append((model_NOX.predict([[825,18,i]]).tolist()))"
   ]
  },
  {
   "cell_type": "code",
   "execution_count": 17,
   "metadata": {},
   "outputs": [
    {
     "data": {
      "text/plain": [
       "count    7396.000000\n",
       "mean      242.189292\n",
       "std       206.312007\n",
       "min         2.000000\n",
       "25%        97.000000\n",
       "50%       178.000000\n",
       "75%       321.000000\n",
       "max      1479.000000\n",
       "Name: NOX_Real, dtype: float64"
      ]
     },
     "execution_count": 17,
     "metadata": {},
     "output_type": "execute_result"
    }
   ],
   "source": [
    "y_NOX.describe()"
   ]
  },
  {
   "cell_type": "code",
   "execution_count": 18,
   "metadata": {},
   "outputs": [
    {
     "data": {
      "image/png": "[encoded data removed]",
      "text/plain": [
       "<Figure size 432x288 with 1 Axes>"
      ]
     },
     "metadata": {
      "needs_background": "light"
     },
     "output_type": "display_data"
    }
   ],
   "source": [
    "#Humidity change effect on NOX real data\n",
    "plt.scatter(Humidity,list_NOX)\n",
    "plt.xlabel('Absolute Humidity')\n",
    "plt.ylabel('NOX_Real');\n",
    "plt.ylim([0,350]);"
   ]
  },
  {
   "cell_type": "markdown",
   "metadata": {},
   "source": [
    "Interestingly, low ranges of humidities (0.2-0.75) have huge effect on NOX real data and difference between real and sensor data while in humidities higher than 0.75, the NOX real data did not move alot. in humidities between 0.2 to 0.75, the real data changed more than 50%."
   ]
  },
  {
   "cell_type": "markdown",
   "metadata": {},
   "source": [
    "### 5.3.3 Investigating humidity effect on NO2 sensor & real data"
   ]
  },
  {
   "cell_type": "code",
   "execution_count": 19,
   "metadata": {},
   "outputs": [
    {
     "name": "stderr",
     "output_type": "stream",
     "text": [
      "<ipython-input-19-806248704d34>:2: SettingWithCopyWarning: \n",
      "A value is trying to be set on a copy of a slice from a DataFrame\n",
      "\n",
      "See the caveats in the documentation: https://pandas.pydata.org/pandas-docs/stable/user_guide/indexing.html#returning-a-view-versus-a-copy\n",
      "  NO2.dropna(inplace=True)\n"
     ]
    }
   ],
   "source": [
    "NO2=df[['NO2_Real', 'Temperature','Absolute Humidity','NO2_Sensor']]\n",
    "NO2.dropna(inplace=True)\n",
    "X_NO2=NO2[['NO2_Sensor', 'Temperature','Absolute Humidity']]\n",
    "y_NO2=NO2['NO2_Real']"
   ]
  },
  {
   "cell_type": "code",
   "execution_count": 20,
   "metadata": {},
   "outputs": [
    {
     "data": {
      "text/plain": [
       "1452.0113620992831"
      ]
     },
     "execution_count": 20,
     "metadata": {},
     "output_type": "execute_result"
    }
   ],
   "source": [
    "# Average sensor data\n",
    "X_NO2['NO2_Sensor'].mean()"
   ]
  },
  {
   "cell_type": "code",
   "execution_count": 21,
   "metadata": {},
   "outputs": [],
   "source": [
    "list_NO2=[]\n",
    "for i in np.arange(0.2,2.4,0.2):\n",
    "    list_NO2.append((model_NO2.predict([[1452,18,i]]).tolist()))"
   ]
  },
  {
   "cell_type": "code",
   "execution_count": 22,
   "metadata": {},
   "outputs": [
    {
     "data": {
      "text/plain": [
       "count    7393.000000\n",
       "mean      112.145137\n",
       "std        47.629141\n",
       "min         2.000000\n",
       "25%        77.000000\n",
       "50%       109.000000\n",
       "75%       140.000000\n",
       "max       333.000000\n",
       "Name: NO2_Real, dtype: float64"
      ]
     },
     "execution_count": 22,
     "metadata": {},
     "output_type": "execute_result"
    }
   ],
   "source": [
    "y_NO2.describe()"
   ]
  },
  {
   "cell_type": "code",
   "execution_count": 24,
   "metadata": {},
   "outputs": [
    {
     "data": {
      "image/png": "[encoded data removed]",
      "text/plain": [
       "<Figure size 432x288 with 1 Axes>"
      ]
     },
     "metadata": {
      "needs_background": "light"
     },
     "output_type": "display_data"
    }
   ],
   "source": [
    "#Humidity change effect on NO2 real data\n",
    "plt.scatter(Humidity,list_NO2)\n",
    "plt.xlabel('Absolute Humidity')\n",
    "plt.ylabel('NO2_Real');\n",
    "plt.ylim([0,160]);"
   ]
  },
  {
   "cell_type": "markdown",
   "metadata": {},
   "source": [
    "It seems increasing humidity decreased the NO2 real data. The trend is close to linear trend. Also, it seems in high humidity ranges (above 2), the NO2 real data did not change.The NO2 real data changed more than 60% between low and high ranges of humidities."
   ]
  },
  {
   "cell_type": "markdown",
   "metadata": {},
   "source": [
    "### 5.3.4 Investigating humidity effect on NMH sensor & real data"
   ]
  },
  {
   "cell_type": "code",
   "execution_count": 25,
   "metadata": {},
   "outputs": [
    {
     "name": "stderr",
     "output_type": "stream",
     "text": [
      "<ipython-input-25-923deab573a9>:2: SettingWithCopyWarning: \n",
      "A value is trying to be set on a copy of a slice from a DataFrame\n",
      "\n",
      "See the caveats in the documentation: https://pandas.pydata.org/pandas-docs/stable/user_guide/indexing.html#returning-a-view-versus-a-copy\n",
      "  NMH.dropna(inplace=True)\n"
     ]
    }
   ],
   "source": [
    "NMH=df[['Non Metanic Hydrocarbons_Real', 'Temperature','Absolute Humidity','Non Metanic Hydrocarbons_Sensor']]\n",
    "NMH.dropna(inplace=True)\n",
    "X_NMH=(NMH[['Non Metanic Hydrocarbons_Sensor', 'Temperature','Absolute Humidity']])\n",
    "y_NMH=NMH['Non Metanic Hydrocarbons_Real']"
   ]
  },
  {
   "cell_type": "code",
   "execution_count": 26,
   "metadata": {},
   "outputs": [
    {
     "data": {
      "text/plain": [
       "943.4622322435175"
      ]
     },
     "execution_count": 26,
     "metadata": {},
     "output_type": "execute_result"
    }
   ],
   "source": [
    "# Average sensor data\n",
    "X_NMH['Non Metanic Hydrocarbons_Sensor'].mean()"
   ]
  },
  {
   "cell_type": "code",
   "execution_count": 27,
   "metadata": {},
   "outputs": [],
   "source": [
    "list_NMH=[]\n",
    "for i in np.arange(0.2,2.4,0.2):\n",
    "    list_NMH.append((model_NMH.predict([[944,18,i]]).tolist()))"
   ]
  },
  {
   "cell_type": "code",
   "execution_count": 28,
   "metadata": {},
   "outputs": [
    {
     "data": {
      "image/png": "[encoded data removed]",
      "text/plain": [
       "<Figure size 432x288 with 1 Axes>"
      ]
     },
     "metadata": {
      "needs_background": "light"
     },
     "output_type": "display_data"
    }
   ],
   "source": [
    "#Humidity change effect on NMH real data\n",
    "plt.scatter(Humidity,list_NMH)\n",
    "plt.xlabel('Absolute Humidity')\n",
    "plt.ylabel('NMH_Real');\n",
    "plt.ylim([0,225]);"
   ]
  },
  {
   "cell_type": "markdown",
   "metadata": {},
   "source": [
    "Humidity did not affect non methanic hydrocarbons real data. "
   ]
  },
  {
   "cell_type": "markdown",
   "metadata": {},
   "source": [
    "### 5.4. Summary"
   ]
  },
  {
   "cell_type": "markdown",
   "metadata": {},
   "source": [
    "Here are the main conclusions for CO, NOX, NO2 and non methanic hydrocarbons real data changes with humidities(between 0.2-2.2):\n",
    "* CO real data decreased by increasing humidity. The change between minimum and maximum level was around 30%.\n",
    "* NOX real data decreased by increasing humidity just in lower ranges of humidity (0.2-0.75). The change between minimum and maximum level was around 50%.\n",
    "* NO2 real data decreased significantly by increasing humidity. The change between minimum and maximum level was around 60%.\n",
    "* NMH real data did not change by increasing humidity. \n"
   ]
  },
  {
   "cell_type": "code",
   "execution_count": null,
   "metadata": {},
   "outputs": [],
   "source": []
  }
 ],
 "metadata": {
  "kernelspec": {
   "display_name": "Python 3",
   "language": "python",
   "name": "python3"
  },
  "language_info": {
   "codemirror_mode": {
    "name": "ipython",
    "version": 3
   },
   "file_extension": ".py",
   "mimetype": "text/x-python",
   "name": "python",
   "nbconvert_exporter": "python",
   "pygments_lexer": "ipython3",
   "version": "3.8.5"
  }
 },
 "nbformat": 4,
 "nbformat_minor": 4
}
